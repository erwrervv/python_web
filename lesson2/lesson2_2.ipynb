{
 "cells": [
  {
   "cell_type": "code",
   "execution_count": 1,
   "id": "a57bc671",
   "metadata": {},
   "outputs": [
    {
     "name": "stdout",
     "output_type": "stream",
     "text": [
      "hello\n"
     ]
    }
   ],
   "source": [
    "print(\"hello\")"
   ]
  },
  {
   "cell_type": "code",
   "execution_count": null,
   "id": "f489f3d3",
   "metadata": {},
   "outputs": [],
   "source": [
    "# 定義一個沒有參數,沒有傳出值的function\n",
    "# todo:建立一個可以使用print()劃出聖誕樹的function\n",
    "# 必須要有說明docstring\n",
    "def draw_christmas_tree():\n",
    "    \"\"\"\n",
    "    這個函數會印出一個簡單的 ASCII 藝術聖誕樹。\n",
    "    \"\"\"\n",
    "    print(\"         *         \")\n",
    "    print(\"        ***        \")\n",
    "    print(\"       *****       \")\n",
    "    print(\"      *******      \")\n",
    "    print(\"     *********     \")\n",
    "    print(\"    ***********    \")\n",
    "    print(\"   *************   \")\n",
    "    print(\"        |||        \")\n",
    "    print(\"       =====       \")\n",
    "\n",
    "draw_christmas_tree()\n",
    "    "
   ]
  },
  {
   "cell_type": "code",
   "execution_count": null,
   "id": "9794a528",
   "metadata": {},
   "outputs": [],
   "source": []
  }
 ],
 "metadata": {
  "kernelspec": {
   "display_name": "python_web",
   "language": "python",
   "name": "python3"
  },
  "language_info": {
   "codemirror_mode": {
    "name": "ipython",
    "version": 3
   },
   "file_extension": ".py",
   "mimetype": "text/x-python",
   "name": "python",
   "nbconvert_exporter": "python",
   "pygments_lexer": "ipython3",
   "version": "3.10.18"
  }
 },
 "nbformat": 4,
 "nbformat_minor": 5
}
