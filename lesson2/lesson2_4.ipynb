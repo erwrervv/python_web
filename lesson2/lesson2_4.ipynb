{
 "cells": [
  {
   "cell_type": "code",
   "execution_count": 3,
   "id": "9159eebf",
   "metadata": {},
   "outputs": [],
   "source": [
    "# 定義類別\n",
    "\n",
    "class Car():\n",
    "    pass\n"
   ]
  },
  {
   "cell_type": "code",
   "execution_count": 4,
   "id": "1d67e31a",
   "metadata": {},
   "outputs": [
    {
     "data": {
      "text/plain": [
       "__main__.Car"
      ]
     },
     "execution_count": 4,
     "metadata": {},
     "output_type": "execute_result"
    }
   ],
   "source": [
    "car1=Car()\n",
    "type(car1)"
   ]
  },
  {
   "cell_type": "code",
   "execution_count": null,
   "id": "2cb619ab",
   "metadata": {},
   "outputs": [],
   "source": [
    "class Dog():\n",
    "    def __init__(self,name,age):\n",
    "        self.name = name\n",
    "        self.age = age\n",
    "    def  bark(self):\n",
    "        return f\"{self.name} 汪汪叫\""
   ]
  },
  {
   "cell_type": "code",
   "execution_count": null,
   "id": "7c3ca06e",
   "metadata": {},
   "outputs": [
    {
     "name": "stdout",
     "output_type": "stream",
     "text": [
      "小白\n",
      "3\n"
     ]
    },
    {
     "data": {
      "text/plain": [
       "'小白 汪汪叫'"
      ]
     },
     "execution_count": 16,
     "metadata": {},
     "output_type": "execute_result"
    }
   ],
   "source": [
    "dog1=Dog(\"小白\",3)\n",
    "print(dog1.name)\n",
    "print(dog1.age)\n",
    "print(dog1.bark())  # 輸出: Buddy 汪汪叫!"
   ]
  },
  {
   "cell_type": "code",
   "execution_count": null,
   "id": "a380eef9",
   "metadata": {},
   "outputs": [
    {
     "name": "stdout",
     "output_type": "stream",
     "text": [
      "Max\n",
      "5\n"
     ]
    }
   ],
   "source": [
    "dog2 = Dog(\"Max\", 5)\n",
    "print(dog2.name)  # 輸出: Max\n",
    "print(dog2.age)   # 輸出: 5\n",
    "dog2.bark()  # 輸出: Max 汪汪叫!"
   ]
  },
  {
   "cell_type": "code",
   "execution_count": null,
   "id": "612edcd9",
   "metadata": {},
   "outputs": [
    {
     "name": "stdout",
     "output_type": "stream",
     "text": [
      "Bella\n",
      "2\n"
     ]
    }
   ],
   "source": [
    "dog3 = Dog(\"Bella\", 2)\n",
    "print(dog3.name)  # 輸出: Bella\n",
    "print(dog3.age)   # 輸出: 2\n",
    "dog3.bark()  # 輸出: Bella 汪汪叫!"
   ]
  },
  {
   "cell_type": "code",
   "execution_count": null,
   "id": "a5731d4f",
   "metadata": {},
   "outputs": [],
   "source": [
    "\"Abc\".lower() #字串的實體方法\n",
    "\"Abc\".upper() #字串的實體方法"
   ]
  },
  {
   "cell_type": "code",
   "execution_count": null,
   "id": "cc2d0f15",
   "metadata": {},
   "outputs": [],
   "source": [
    "class Person:\n",
    "    def __init__(self,name):\n",
    "        self.name=name#Attribute\n",
    "    "
   ]
  },
  {
   "cell_type": "code",
   "execution_count": null,
   "id": "8e3f1ef0",
   "metadata": {},
   "outputs": [],
   "source": [
    "p1:"
   ]
  },
  {
   "cell_type": "code",
   "execution_count": null,
   "id": "9835dd19",
   "metadata": {},
   "outputs": [],
   "source": []
  }
 ],
 "metadata": {
  "kernelspec": {
   "display_name": "python_web",
   "language": "python",
   "name": "python3"
  },
  "language_info": {
   "codemirror_mode": {
    "name": "ipython",
    "version": 3
   },
   "file_extension": ".py",
   "mimetype": "text/x-python",
   "name": "python",
   "nbconvert_exporter": "python",
   "pygments_lexer": "ipython3",
   "version": "3.10.18"
  }
 },
 "nbformat": 4,
 "nbformat_minor": 5
}
