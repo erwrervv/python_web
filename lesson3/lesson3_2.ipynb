{
 "cells": [
  {
   "cell_type": "code",
   "execution_count": 27,
   "id": "091a3b84",
   "metadata": {},
   "outputs": [],
   "source": [
    "def sum(*args): #文件內自訂的function\n",
    "    total =0 \n",
    "    for value in args:\n",
    "        total += value\n",
    "    return total"
   ]
  },
  {
   "cell_type": "code",
   "execution_count": 28,
   "id": "2b140f6b",
   "metadata": {},
   "outputs": [
    {
     "data": {
      "text/plain": [
       "55"
      ]
     },
     "execution_count": 28,
     "metadata": {},
     "output_type": "execute_result"
    }
   ],
   "source": [
    "sum(1,2,3,4,5,6,7,8,9,10)"
   ]
  },
  {
   "cell_type": "code",
   "execution_count": 29,
   "id": "6fcbb5a2",
   "metadata": {},
   "outputs": [],
   "source": [
    "class Tools:\n",
    "    @staticmethod\n",
    "    def sum(*args): #文件內自訂的function\n",
    "        total =0 \n",
    "        for value in args:\n",
    "            total += value\n",
    "        return total\n",
    "######不需要物件（instance）或類別（class）本身參數。 可以直接用 Tools.sum(...) 呼叫\n",
    "##- `args` → 表示可以接受任意數量的參數。\n",
    "##- 功能：將所有參數加總並回傳。\n",
    "    @classmethod\n",
    "    def sum1(cls,*args):\n",
    "        total=0\n",
    "        for value in args:\n",
    "            total+=value\n",
    "        return total"
   ]
  },
  {
   "cell_type": "code",
   "execution_count": 30,
   "id": "544ef621",
   "metadata": {},
   "outputs": [
    {
     "data": {
      "text/plain": [
       "55"
      ]
     },
     "execution_count": 30,
     "metadata": {},
     "output_type": "execute_result"
    }
   ],
   "source": [
    "Tools.sum(1,2,3,4,5,6,7,8,9,10)\n",
    "Tools.sum1(1,2,3,4,5,6,7,8,9,10)"
   ]
  }
 ],
 "metadata": {
  "kernelspec": {
   "display_name": ".venv",
   "language": "python",
   "name": "python3"
  },
  "language_info": {
   "codemirror_mode": {
    "name": "ipython",
    "version": 3
   },
   "file_extension": ".py",
   "mimetype": "text/x-python",
   "name": "python",
   "nbconvert_exporter": "python",
   "pygments_lexer": "ipython3",
   "version": "3.10.18"
  }
 },
 "nbformat": 4,
 "nbformat_minor": 5
}
