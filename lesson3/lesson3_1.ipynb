{
 "cells": [
  {
   "cell_type": "code",
   "execution_count": 13,
   "id": "acf6d2ea",
   "metadata": {},
   "outputs": [
    {
     "name": "stdout",
     "output_type": "stream",
     "text": [
      "Hello! Python!\n"
     ]
    }
   ],
   "source": [
    "print(\"Hello! Python!\")"
   ]
  },
  {
   "cell_type": "code",
   "execution_count": 14,
   "id": "5a8a2d8f",
   "metadata": {},
   "outputs": [],
   "source": [
    "class Person:\n",
    "    def __init__(self,name): #自訂的初始化\n",
    "        self.name = name #建立attribute\n",
    "\n",
    "    def greeting(self): #自訂的實體方法\n",
    "        print(f\"您好:{self.name}\")"
   ]
  },
  {
   "cell_type": "code",
   "execution_count": 15,
   "id": "8c1a96e5",
   "metadata": {},
   "outputs": [
    {
     "name": "stdout",
     "output_type": "stream",
     "text": [
      "robert\n",
      "您好:robert\n",
      "jenny\n",
      "您好:jenny\n"
     ]
    }
   ],
   "source": [
    "p1:Person = Person(\"robert\")\n",
    "print(p1.name)\n",
    "p1.greeting()\n",
    "p2:Person = Person(name=\"jenny\")\n",
    "print(p2.name)\n",
    "p2.greeting()\n"
   ]
  },
  {
   "cell_type": "code",
   "execution_count": 16,
   "id": "480f0235",
   "metadata": {},
   "outputs": [],
   "source": [
    "class Student(Person):\n",
    "    def greeting(self): #overwirte (覆寫) 父類別的實體方法\n",
    "        super()\n",
    "        print(f\"您好:我是學生{self.name}\")"
   ]
  },
  {
   "cell_type": "code",
   "execution_count": 17,
   "id": "fde8b543",
   "metadata": {},
   "outputs": [
    {
     "name": "stdout",
     "output_type": "stream",
     "text": [
      "Kevin\n",
      "您好:我是學生Kevin\n"
     ]
    }
   ],
   "source": [
    "s1 = Student(\"Kevin\")\n",
    "print(s1.name)\n",
    "s1.greeting()"
   ]
  }
 ],
 "metadata": {
  "kernelspec": {
   "display_name": ".venv",
   "language": "python",
   "name": "python3"
  },
  "language_info": {
   "codemirror_mode": {
    "name": "ipython",
    "version": 3
   },
   "file_extension": ".py",
   "mimetype": "text/x-python",
   "name": "python",
   "nbconvert_exporter": "python",
   "pygments_lexer": "ipython3",
   "version": "3.10.18"
  }
 },
 "nbformat": 4,
 "nbformat_minor": 5
}
