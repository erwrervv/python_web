{
 "cells": [
  {
   "cell_type": "code",
   "execution_count": 94,
   "id": "acf6d2ea",
   "metadata": {},
   "outputs": [
    {
     "name": "stdout",
     "output_type": "stream",
     "text": [
      "Hello! Python!\n"
     ]
    }
   ],
   "source": [
    "print(\"Hello! Python!\")"
   ]
  },
  {
   "cell_type": "code",
   "execution_count": 95,
   "id": "5a8a2d8f",
   "metadata": {},
   "outputs": [],
   "source": [
    "class Person:\n",
    "    def __init__(self,name): #自訂的初始化\n",
    "        self.name = name #建立attribute\n",
    "\n",
    "    def greeting(self): #自訂的實體方法\n",
    "        print(f\"您好:{self.name}\")"
   ]
  },
  {
   "cell_type": "code",
   "execution_count": 96,
   "id": "8c1a96e5",
   "metadata": {},
   "outputs": [
    {
     "name": "stdout",
     "output_type": "stream",
     "text": [
      "robert\n",
      "您好:robert\n",
      "jenny\n",
      "您好:jenny\n"
     ]
    }
   ],
   "source": [
    "p1:Person = Person(\"robert\")\n",
    "print(p1.name)\n",
    "p1.greeting()\n",
    "p2:Person = Person(name=\"jenny\")\n",
    "print(p2.name)\n",
    "p2.greeting()\n"
   ]
  },
  {
   "cell_type": "code",
   "execution_count": 97,
   "id": "480f0235",
   "metadata": {},
   "outputs": [],
   "source": [
    "class Student(Person):\n",
    "    def __init__(self,name,chinese,english,math):\n",
    "        super().__init__(name)\n",
    "        self.__chinese=chinese #底線代表不公開\n",
    "        self.__english=english\n",
    "        self.__math=math\n",
    "    @property #decorator\n",
    "    def chinese(self):\n",
    "        return self.__chinese\n",
    "    @property #decorator\n",
    "    def english(self):\n",
    "        return self.__english\n",
    "    @property #decorator\n",
    "    def math(self):\n",
    "        return self.__math\n",
    "    def greeting(self): #overwirte (覆寫) 父類別的實體方法\n",
    "        super().greeting() #採用了繼承的方法而且添加了後方的print()\n",
    "        print(f\"您好:我是一個學生{self.name}\")\n",
    "    def total(self): #method , 自訂的實體方法\n",
    "        return self.chinese + self.english + self.math\n",
    "    def average(self):\n",
    "        return self.total()/3.0\n",
    "    def __repr__(self):\n",
    "        return f\"\"\"\n",
    "        我是一個學生\n",
    "        我的名字是{self.name}\n",
    "        我的總分是{self.total()}\n",
    "        我的平均是{self.average()}\n",
    "        \"\"\""
   ]
  },
  {
   "cell_type": "code",
   "execution_count": null,
   "id": "fde8b543",
   "metadata": {},
   "outputs": [
    {
     "name": "stdout",
     "output_type": "stream",
     "text": [
      "Kevin\n",
      "英文分數:78\n",
      "數學分數:93\n",
      "國文分數:70\n",
      "總分:241\n",
      "平均:80.33333333333333\n",
      "您好:Kevin\n",
      "您好:我是一個學生Kevin\n"
     ]
    }
   ],
   "source": [
    "s1 = Student(\"Kevin\",chinese=70,english=78,math=93,)\n",
    "print(s1.name)\n",
    "#此時在這裡即使指派數值給變數，但是變數已經宣告@property只可以讀取\n",
    "print(f\"英文分數:{s1.english}\")\n",
    "print(f\"數學分數:{s1.math}\")\n",
    "print(f\"國文分數:{s1.chinese}\")\n",
    "print(f\"總分:{s1.total()}\")\n",
    "print(f\"平均:{s1.average()}\")\n",
    "s1.greeting()\n",
    "print(s1)"
   ]
  },
  {
   "cell_type": "code",
   "execution_count": null,
   "id": "69c61456",
   "metadata": {},
   "outputs": [
    {
     "name": "stdout",
     "output_type": "stream",
     "text": [
      "\n",
      "        我是一個學生\n",
      "        我的名字是Kevin\n",
      "        我的總分是241\n",
      "        我的平均是80.33333333333333\n",
      "        \n"
     ]
    }
   ],
   "source": []
  },
  {
   "cell_type": "code",
   "execution_count": null,
   "id": "7a57c2d5",
   "metadata": {},
   "outputs": [],
   "source": []
  }
 ],
 "metadata": {
  "kernelspec": {
   "display_name": ".venv",
   "language": "python",
   "name": "python3"
  },
  "language_info": {
   "codemirror_mode": {
    "name": "ipython",
    "version": 3
   },
   "file_extension": ".py",
   "mimetype": "text/x-python",
   "name": "python",
   "nbconvert_exporter": "python",
   "pygments_lexer": "ipython3",
   "version": "3.10.18"
  }
 },
 "nbformat": 4,
 "nbformat_minor": 5
}
