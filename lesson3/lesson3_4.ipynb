{
 "cells": [
  {
   "cell_type": "code",
   "execution_count": null,
   "id": "c4aa29ee",
   "metadata": {},
   "outputs": [
    {
     "ename": "",
     "evalue": "",
     "output_type": "error",
     "traceback": [
      "\u001b[1;31m執行具有 'base (Python 3.13.5)' 的儲存格需要 ipykernel 套件。\n",
      "\u001b[1;31m使用所需的套件<a href='command:jupyter.createPythonEnvAndSelectController'>建立 Python 環境</a>。\n",
      "\u001b[1;31m或使用命令 'conda install -n base ipykernel --update-deps --force-reinstall' 安裝 'ipykernel'"
     ]
    }
   ],
   "source": [
    "try:\n",
    "    raise NameError(\"名字錯誤\")  # 故意製造錯誤\n",
    "except Exception as e:\n",
    "    print(f\"出現錯誤, 錯誤是: {e}\")\n",
    "else:\n",
    "    print(\"沒有錯誤\")"
   ]
  },
  {
   "cell_type": "code",
   "execution_count": null,
   "id": "3bbd98fb",
   "metadata": {},
   "outputs": [],
   "source": [
    "try:\n",
    "    # 故意製造 NameError\n",
    "    raise NameError(\"名字錯誤\")\n",
    "    print(\"Hello!\")  # 不會執行\n",
    "except NameError:\n",
    "    print(\"名字錯誤\")\n",
    "except Exception as e:\n",
    "    print(f\"出現錯誤, 錯誤是: {e}\")\n",
    "else:\n",
    "    print(\"沒有錯誤\")"
   ]
  }
 ],
 "metadata": {
  "kernelspec": {
   "display_name": "base",
   "language": "python",
   "name": "python3"
  },
  "language_info": {
   "codemirror_mode": {
    "name": "ipython",
    "version": 3
   },
   "file_extension": ".py",
   "mimetype": "text/x-python",
   "name": "python",
   "nbconvert_exporter": "python",
   "pygments_lexer": "ipython3",
   "version": "3.13.5"
  }
 },
 "nbformat": 4,
 "nbformat_minor": 5
}
