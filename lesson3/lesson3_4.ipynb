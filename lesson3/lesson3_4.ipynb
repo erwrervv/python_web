{
 "cells": [
  {
   "cell_type": "code",
   "execution_count": null,
   "id": "c4aa29ee",
   "metadata": {},
   "outputs": [
    {
     "name": "stdout",
     "output_type": "stream",
     "text": [
      "出現錯誤\n"
     ]
    }
   ],
   "source": [
    "try:\n",
    "    raise NameError(\"名字錯誤\")  # 故意製造錯誤\n",
    "except Exception as e:\n",
    "    print(f\"出現錯誤, 錯誤是: {e}\")\n",
    "else:\n",
    "    print(\"沒有錯誤\")"
   ]
  },
  {
   "cell_type": "code",
   "execution_count": null,
   "id": "3bbd98fb",
   "metadata": {},
   "outputs": [],
   "source": [
    "try:\n",
    "    # 故意製造 NameError\n",
    "    raise NameError(\"名字錯誤\")\n",
    "    print(\"Hello!\")  # 不會執行\n",
    "except NameError:\n",
    "    print(\"名字錯誤\")\n",
    "except Exception as e:\n",
    "    print(f\"出現錯誤, 錯誤是: {e}\")\n",
    "else:\n",
    "    print(\"沒有錯誤\")"
   ]
  }
 ],
 "metadata": {
  "kernelspec": {
   "display_name": "python_web",
   "language": "python",
   "name": "python3"
  },
  "language_info": {
   "codemirror_mode": {
    "name": "ipython",
    "version": 3
   },
   "file_extension": ".py",
   "mimetype": "text/x-python",
   "name": "python",
   "nbconvert_exporter": "python",
   "pygments_lexer": "ipython3",
   "version": "3.10.18"
  }
 },
 "nbformat": 4,
 "nbformat_minor": 5
}
